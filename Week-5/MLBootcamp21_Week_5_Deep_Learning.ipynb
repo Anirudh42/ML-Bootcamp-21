{
  "nbformat": 4,
  "nbformat_minor": 0,
  "metadata": {
    "colab": {
      "name": "MLBootcamp21_Week_5_Deep_Learning.ipynb",
      "provenance": []
    },
    "kernelspec": {
      "name": "python3",
      "display_name": "Python 3"
    },
    "language_info": {
      "name": "python"
    }
  },
  "cells": [
    {
      "cell_type": "code",
      "metadata": {
        "id": "v0-o4B6E-PUa"
      },
      "source": [
        "import pandas as pd\n",
        "import numpy as np\n",
        "from keras.models import Sequential\n",
        "from keras.layers import Dense\n",
        "from sklearn.model_selection import train_test_split"
      ],
      "execution_count": 3,
      "outputs": []
    },
    {
      "cell_type": "code",
      "metadata": {
        "id": "VOlciy4O-kUl"
      },
      "source": [
        "df_train = pd.read_csv(\"./train.csv\")\n",
        "df_train[['female','male']] = pd.get_dummies(df_train['Sex'])\n",
        "df_train[[\"C\",\"Q\",\"S\"]] = pd.get_dummies(df_train[\"Embarked\"])\n",
        "df_train.fillna(method=\"ffill\",inplace=True)\n",
        "drop_features = [\"Sex\",'Ticket','Name','Cabin',\"Embarked\"]\n",
        "df_train.drop(drop_features,inplace=True,axis=1)"
      ],
      "execution_count": 4,
      "outputs": []
    },
    {
      "cell_type": "code",
      "metadata": {
        "id": "x7lQDAfT-rPn"
      },
      "source": [
        "x_train, x_test, y_train, y_test = train_test_split(df_train.loc[:,'Pclass':'male'],df_train.Survived,\\\n",
        "                                                          test_size=0.2)"
      ],
      "execution_count": 6,
      "outputs": []
    },
    {
      "cell_type": "markdown",
      "metadata": {
        "id": "VhGhNrvO_DAd"
      },
      "source": [
        "## Keras: A Python Deep learning framework"
      ]
    },
    {
      "cell_type": "code",
      "metadata": {
        "id": "uonOksOW--11"
      },
      "source": [
        "model_simple = Sequential()\n",
        "model_simple.add(Dense(12, input_dim=7, activation='relu'))\n",
        "model_simple.add(Dense(12, activation='relu'))\n",
        "model_simple.add(Dense(1, activation='sigmoid'))"
      ],
      "execution_count": 34,
      "outputs": []
    },
    {
      "cell_type": "code",
      "metadata": {
        "id": "3QrCx-Qi_JPy"
      },
      "source": [
        "model_simple.compile(loss='binary_crossentropy', optimizer='adam', metrics=['accuracy'])"
      ],
      "execution_count": 35,
      "outputs": []
    },
    {
      "cell_type": "code",
      "metadata": {
        "id": "FCLaHXRT_MrL"
      },
      "source": [
        "model_simple.fit(np.array(x_train), y_train, epochs=150, batch_size=10)"
      ],
      "execution_count": 37,
      "outputs": []
    },
    {
      "cell_type": "code",
      "metadata": {
        "id": "0Nc79X47BLj2"
      },
      "source": [
        ""
      ],
      "execution_count": null,
      "outputs": []
    }
  ]
}