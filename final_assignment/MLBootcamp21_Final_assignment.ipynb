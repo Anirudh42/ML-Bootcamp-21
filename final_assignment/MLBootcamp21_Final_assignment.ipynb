{
  "nbformat": 4,
  "nbformat_minor": 0,
  "metadata": {
    "colab": {
      "name": "MLBootcamp21_Final_assignment.ipynb",
      "provenance": [],
      "collapsed_sections": []
    },
    "kernelspec": {
      "name": "python3",
      "display_name": "Python 3"
    },
    "language_info": {
      "name": "python"
    }
  },
  "cells": [
    {
      "cell_type": "markdown",
      "metadata": {
        "id": "Qhm9ePUk3hgv"
      },
      "source": [
        "## Final Assignment\n",
        "\n",
        "- Welcome to the final assignment! Read all instructions very carefully\n",
        "- You will be tested on the following topics:\n",
        "  - Basic python programming(1 question)\n",
        "  - Pandas dataframe manipulation/filtering(3 questions)\n",
        "  - Plotting charts(1 question)\n",
        "  - A 10-question quiz\n",
        "\n",
        "****Important note: Only use the \"train.csv\" file unless specified otherwise****\n",
        "\n",
        " - Download the dataset located here: https://www.kaggle.com/c/home-data-for-ml-course/data?select=train.csv\n",
        "\n",
        "- Remember that you will only be able to download the dataset if you register for the competition\n",
        "\n",
        "- If you are unable to download the data from the kaggle website then check the \"Week 5\" folder inside the regular google drive link for this bootcamp\n",
        "\n",
        "- Each question will need you to store your answer in the variable names exactly as specified in each cell so please do not change that. If you answer needs you to define a function then make sure the name of the function is exactly as shown in the question\n",
        "\n",
        "- ****For some of the question you may have to refer to the \"data_description.txt\" file provided along with the dataset****\n",
        "\n",
        "- All the best and hope you enjoyed the course and learned a lot to kickstart your data science journey!"
      ]
    },
    {
      "cell_type": "markdown",
      "metadata": {
        "id": "Sey3jxez5JKi"
      },
      "source": [
        "## Q1. You would need to write a function to print the average marks for a given student's name. There are two inputs to your function: a dictionary and the name of the student. The output should just be the average of all their marks rounded to two decimal places. Name your function student_avg_score(score_dictionary, student_name). Use the python \"round(result,2)\" function as it is to round your answers as this will effect your mark for this question\n",
        "\n",
        "Example:\n",
        "\n",
        "- ****Input****:\n",
        "          score_dictionary =  {\n",
        "          'Student_A' : [56,75,80],\n",
        "          'Student_B':[98,74,89],\n",
        "          'Student_C':[45,87,59]\n",
        "          }\n",
        "          student_name = 'Student_B'\n",
        "- ****Output****: 87\n",
        "\n",
        "- ****Explanation/Reason****: In the input score_dictionary, we can see that the 'Student_B' scored 98, 74 and 89 in their 3 subjects. Now the student_name was 'Student_B'. So we picked that particular student and then took the average of their scores and then rounded the answer to 2 decimal places\n",
        "\n",
        "- ****Verification****: Make a function call to your function using the syntax exactly as shown below <br> ```student_avg_score(score_dictionary = {'Student_A':[56,75,80],'Student_B':[98,74,89],'Student_C':[45,87,59]},student_name = 'Student_B')``` <br>and this should give you 87 for ***student_name='Student_B'***, 63.67 for ***student_name='Student_C'*** and 70.33 for ***student_name='Student_A'*** as the outputs\n"
      ]
    },
    {
      "cell_type": "code",
      "metadata": {
        "id": "Hmed-GviN8wB"
      },
      "source": [
        "#Import the necessary libraries here"
      ],
      "execution_count": null,
      "outputs": []
    },
    {
      "cell_type": "code",
      "metadata": {
        "id": "8aQZ3KLkPoYQ"
      },
      "source": [
        "#read the train.csv file here"
      ],
      "execution_count": null,
      "outputs": []
    },
    {
      "cell_type": "markdown",
      "metadata": {
        "id": "05bmCVda_zpl"
      },
      "source": [
        "## Q2. Find the number of missing values for each column in your train.csv data\n",
        "\n",
        "- The output shold be in the form of a dictionary as shown below\n",
        "\n",
        "        { \n",
        "          1st Column_name_here: Number of missing values for the 1st Column,\n",
        "          2nd Column_name_here: Number of missing values for the 2nd Column,\n",
        "          3rd Column_name_here: Number of missing values for the 3rd Column\n",
        "          .\n",
        "          .\n",
        "          .\n",
        "        }\n",
        "  \n",
        "- Name your variable ****df_missing_values****\n"
      ]
    },
    {
      "cell_type": "code",
      "metadata": {
        "id": "pocGkD0DPt6X"
      },
      "source": [
        "#report the number of null values per column as a dictionary\n",
        "#Your answer below. Store your dictionary in this variable\n",
        "\n",
        "df_missing_values = 'Your Answer'"
      ],
      "execution_count": null,
      "outputs": []
    },
    {
      "cell_type": "markdown",
      "metadata": {
        "id": "-mnnrNLeChQF"
      },
      "source": [
        "## Q3. Find the number of Two-Story houses that have an Overall Quality (overall material and finish of the house) greater than or equal to 5?\n",
        "\n",
        "- Look at the \"data_description.txt\" file and understand the 'HouseStyle' column and 'OverallQual' columns to attempt this question.\n",
        "- Use the pandas dataframe filters to do exactly as the question asks\n",
        "- Store your result in a variable called ****good_quality_houses****"
      ]
    },
    {
      "cell_type": "code",
      "metadata": {
        "id": "hixfTpIeDZd0"
      },
      "source": [
        "#Write your answer below\n",
        "good_quality_houses = 'Your Answer'"
      ],
      "execution_count": null,
      "outputs": []
    },
    {
      "cell_type": "markdown",
      "metadata": {
        "id": "74hGS0QdEDqF"
      },
      "source": [
        "## Q4. Find the number of 'Duplex' houses that have an Overall Quality (overall material and finish of the house) less 5?\n",
        "\n",
        "- Look at the \"data_description.txt\" file and understand the Type of dwelling column and 'OverallQual' columns to attempt this question.\n",
        "- Use the pandas dataframe filters to do exactly as the question asks\n",
        "- Store your result in a variable called ****bad_quality_houses****"
      ]
    },
    {
      "cell_type": "code",
      "metadata": {
        "id": "D8VCOEHYU32y"
      },
      "source": [
        "#duplex lotconfig corner and overall condition bad\n",
        "bad_quality_houses = 'Your Answer'"
      ],
      "execution_count": null,
      "outputs": []
    },
    {
      "cell_type": "markdown",
      "metadata": {
        "id": "aQ7BFKYfFXi8"
      },
      "source": [
        "## Q5. Use the matplotlib library of python to plot a histogram showing the distribution of the following data:\n",
        "  - Overall quality of the houses. Use the variable name ****overall_qual_dist****\n",
        "  - Roof style of the houses. Use the variable name ****roof_style_dist****"
      ]
    },
    {
      "cell_type": "code",
      "metadata": {
        "id": "CcevG3f8Gcgc"
      },
      "source": [
        "# Write your code here to display the histogram\n",
        "# Store your exact Command that you use to display the histogram in the variables as written in the question\n",
        "overall_qual_dist = 'Your matplotlib command'\n",
        "roof_style_dist = 'Your matplotlib command'"
      ],
      "execution_count": null,
      "outputs": []
    },
    {
      "cell_type": "code",
      "metadata": {
        "id": "0mvPu8ObK_kQ"
      },
      "source": [
        ""
      ],
      "execution_count": null,
      "outputs": []
    }
  ]
}
