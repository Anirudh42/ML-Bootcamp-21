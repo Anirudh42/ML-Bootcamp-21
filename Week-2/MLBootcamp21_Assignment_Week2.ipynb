{
 "cells": [
  {
   "cell_type": "markdown",
   "metadata": {
    "id": "8l_X4y9_xF1k"
   },
   "source": [
    "ML Bootcamp 2021 - Week 2: Assignment\n",
    "\n",
    "- In this week you will learn more about the Pandas library and implement Logistic Regression\n",
    "- The comments will have most of the instructiions\n",
    "- Attempt the questions using only python/pandas as much as possible as it is a very in-demand skill right now and learning it will be beneficial\n",
    "- Use the Titanic Training dataset for all questions unless specified to use Test dataset"
   ]
  },
  {
   "cell_type": "code",
   "execution_count": null,
   "metadata": {
    "id": "0DPAiRhTlID6"
   },
   "outputs": [],
   "source": [
    "#Import the necessary libraries here"
   ]
  },
  {
   "cell_type": "markdown",
   "metadata": {
    "id": "2KyORngMzaL1"
   },
   "source": [
    "## Q1. What is the most frequently occuring age for male and female? If more than one particular age occurs equal number of times, report the higher of the two"
   ]
  },
  {
   "cell_type": "code",
   "execution_count": 16,
   "metadata": {
    "id": "uez0srlPnxj8"
   },
   "outputs": [],
   "source": [
    "# Write your code below the comments in this cell\n",
    "# Important\n",
    "# Save your female age value in a variable called 'age_female'\n",
    "# Save your male age value in a variable called 'age_male'\n",
    "\n",
    "####Code Comes Here###\n",
    "\n",
    "###Code Comes Here###\n",
    "\n",
    "###Answers come here###\n",
    "\n",
    "age_female =\n",
    "age_male =\n",
    "\n",
    "###Answers come here###"
   ]
  },
  {
   "cell_type": "markdown",
   "metadata": {
    "id": "UMTcBlpL0aL3"
   },
   "source": [
    "## Q2. Convert the 'Sex' feature of the Train dataset into categorical feature. This question would require you to first read about categorical features and how they look before proceeding.\n",
    "\n",
    "- Read about categorical data first: https://www.kdnuggets.com/2021/05/deal-with-categorical-data-machine-learning.html\n",
    "- Create a new column called \"Sex_Category\"\n",
    "- Use the lambda and apply function to perform this task"
   ]
  },
  {
   "cell_type": "code",
   "execution_count": null,
   "metadata": {
    "id": "EzArtUHCz9i0"
   },
   "outputs": [],
   "source": [
    "# Write your code below the comments in this cell\n",
    "# Important\n",
    "# Finally your dataframe should have an additional column called \"Sex_Category\"\n",
    "# This \"Sex_Category\" column should have the entry as 1 wherever the column \"Sex\" shows \"female\" and 0 wherever it shows \"male\"\n",
    "# Do not remove the existing \"Sex\" column, instead create a new column based on this existing column\n",
    "# I have already provided the code to create a new column for your dataframe called \"df\"\n",
    "# Refer to the previous notebooks for reference\n",
    "\n",
    "####Code Comes Here###\n",
    "\n",
    "df['Sex_Category'] = \"Your Lambda Function here\"\n",
    "\n",
    "###Code Comes Here###"
   ]
  },
  {
   "cell_type": "markdown",
   "metadata": {
    "id": "4L-V8lV_4EO5"
   },
   "source": [
    "## Q3. Consider the \"Age\" and the \"Fare\" columns. These are known as Numerical features. Sometimes it is a good idea to scale these features(bring all the numerical features to one scale maybe between {0,1} or between {-1,1} so that the weights are not biased across the features\n",
    "\n",
    "- Bring these two features to a common scale\n",
    "- There are many techniques to do this and scikit-learn provides many built-in libraries. Try to explore them and see how you can apply them. You would need to import the appropriate libraries\n",
    "- You can use anyone. Without using scikit-learn, the simplest scaler that you can implement manually is to make the mean 0 and standard deviation as 1\n",
    "- In order to do this manual implementation all you need to do is take each value of \"Age\" and \"Fare\", subtract the mean(mean of full column) from each value and then divide that result by the standard devaition(standard deviation of full column)\n",
    "- If you decide to use the manual process then take the mean of all values except the NULL/Missing values as otherwise you may get an error"
   ]
  },
  {
   "cell_type": "code",
   "execution_count": 6,
   "metadata": {
    "id": "M0DTidbd1w8o"
   },
   "outputs": [],
   "source": [
    "# Write your code below the comments in this cell\n",
    "# Important\n",
    "# Finally your dataframe should have two additional columns called \"Age_Normalized\" and \"Fare_Normalized\"\n",
    "# Do not remove the existing \"Age\" or \"Fare\" column, instead create new columns based on these existing columns\n",
    "# Refer to the previous notebooks for reference and also Q2 to understand how to add new columns to an existing dataframe\n",
    "# Use the apply and lambda function to perform the calculations\n",
    "# If you choose to use the scikit-learn libraries then make sure to import them first at the very top cell\n",
    "\n",
    "####Code Comes Here###\n",
    "\n",
    "\n",
    "\n",
    "###Code Comes Here###"
   ]
  },
  {
   "cell_type": "markdown",
   "metadata": {
    "id": "sNUtClA27s6G"
   },
   "source": [
    "## Q4. Implement the ****Logistic**** function in Python based on the formula provided in the slides. All you need is provided in the numpy module or math module. There is a mistake, the place where I mention \"Logit\" function in the slides it is actually called \"Logistic\" function and not Logit function"
   ]
  },
  {
   "cell_type": "code",
   "execution_count": 14,
   "metadata": {
    "id": "UgXjuJDd597r"
   },
   "outputs": [],
   "source": [
    "# Write your code below the comments in this cell\n",
    "# Important\n",
    "# Define a function and name it \"logistic_fn\"\n",
    "# Return the final result of the logistic function\n",
    "# The equation of the logistic function is present in the slides\n",
    "####Code Comes Here###\n",
    "\n",
    "\n",
    "###Code Comes Here###\n",
    "\n",
    "#Verification\n",
    "# logistic_fn(1) --> 0.7310585786300049"
   ]
  },
  {
   "cell_type": "markdown",
   "metadata": {
    "id": "DGxKCzty93lN"
   },
   "source": [
    "## Q5. Using the above newly generated features, \"Age_Normalized\", \"Fare_Normalized\", \"Sex_Category\" and ****any other feature of your choice****. Implement the Logistic Regression Function just as was described in the last class notebook\n",
    "\n",
    "- Import the Logistic Regression Function from scikit-learn\n",
    "- Select the appropriate features first from your dataframe\n",
    "- Create appropriate variables called x_train, x_test, y_train, y_test using the splitting function showed before. Split the Training dataset itself into two parts: Training and Testing(also called Validation)\n",
    "- Use all the features that you created now and REMEMBER, an ML model only accepts Numerical features. Now you will understand the importance of converting categorical data to numbers\n",
    "- Then train/fit() your training data to the Logistic Regression Model and then test/predict() it on your test dataset\n",
    "- ****The problem here is \"Titanic Survival Prediction\". From this name think about what is the output/label for this classification task. That single column will be your y_train/y_test. It was also accounced in class as well****\n",
    "\n",
    "- Keep the \"random_state\" paramenter inside the Logistic Regression function as any number of your choice and and report that number when submitting the assignment so that I can recreate your results. That number can be any integer\n",
    "\n",
    "- Print out the classification_report as shown during the class"
   ]
  },
  {
   "cell_type": "code",
   "execution_count": null,
   "metadata": {
    "id": "rSD-0cOD8eIM"
   },
   "outputs": [],
   "source": []
  }
 ],
 "metadata": {
  "colab": {
   "collapsed_sections": [],
   "name": "MLBootcamp21_Assignment_Week2.ipynb",
   "provenance": []
  },
  "kernelspec": {
   "display_name": "Python 3",
   "language": "python",
   "name": "python3"
  },
  "language_info": {
   "codemirror_mode": {
    "name": "ipython",
    "version": 3
   },
   "file_extension": ".py",
   "mimetype": "text/x-python",
   "name": "python",
   "nbconvert_exporter": "python",
   "pygments_lexer": "ipython3",
   "version": "3.7.4"
  }
 },
 "nbformat": 4,
 "nbformat_minor": 1
}
