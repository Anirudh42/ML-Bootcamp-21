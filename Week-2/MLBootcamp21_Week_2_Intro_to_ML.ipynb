{
  "nbformat": 4,
  "nbformat_minor": 0,
  "metadata": {
    "colab": {
      "name": "MLBootcamp21_Week_2_Intro_to_ML.ipynb",
      "provenance": [],
      "collapsed_sections": []
    },
    "kernelspec": {
      "name": "python3",
      "display_name": "Python 3"
    },
    "language_info": {
      "name": "python"
    }
  },
  "cells": [
    {
      "cell_type": "code",
      "metadata": {
        "id": "d00BU6aePVGl"
      },
      "source": [
        "import pandas as pd\n",
        "import numpy as np\n",
        "from sklearn.linear_model import LinearRegression, LogisticRegression # The Machine Learnig Algorithms\n",
        "from sklearn.metrics import classification_report, mean_squared_error\n",
        "from sklearn.model_selection import train_test_split\n",
        "from sklearn.preprocessing import StandardScaler # This can be used to scale your data\n",
        "import matplotlib.pyplot as plt\n",
        "import seaborn as sb"
      ],
      "execution_count": 113,
      "outputs": []
    },
    {
      "cell_type": "markdown",
      "metadata": {
        "id": "x_lxsouFXeT5"
      },
      "source": [
        "## Data Exploration and Cleaning\n",
        "\n",
        "- Explore the different columns in the data\n",
        "- Check for missing values and use appropriate techniques to fill/remove the missing values"
      ]
    },
    {
      "cell_type": "code",
      "metadata": {
        "id": "VGnTP_21bcYu"
      },
      "source": [
        "df = pd.read_csv(\"./train.csv\")"
      ],
      "execution_count": 37,
      "outputs": []
    },
    {
      "cell_type": "code",
      "metadata": {
        "colab": {
          "base_uri": "https://localhost:8080/"
        },
        "id": "drp_lyRaYbuU",
        "outputId": "0f028ffa-8d8b-4ffa-9331-c547aea57e16"
      },
      "source": [
        "df.shape"
      ],
      "execution_count": 38,
      "outputs": [
        {
          "output_type": "execute_result",
          "data": {
            "text/plain": [
              "(700, 2)"
            ]
          },
          "metadata": {
            "tags": []
          },
          "execution_count": 38
        }
      ]
    },
    {
      "cell_type": "code",
      "metadata": {
        "colab": {
          "base_uri": "https://localhost:8080/",
          "height": 206
        },
        "id": "-pnO8h9YcrCJ",
        "outputId": "40215518-76bc-4e0b-ebaa-5b3b2073cc4f"
      },
      "source": [
        "df.head()"
      ],
      "execution_count": 39,
      "outputs": [
        {
          "output_type": "execute_result",
          "data": {
            "text/html": [
              "<div>\n",
              "<style scoped>\n",
              "    .dataframe tbody tr th:only-of-type {\n",
              "        vertical-align: middle;\n",
              "    }\n",
              "\n",
              "    .dataframe tbody tr th {\n",
              "        vertical-align: top;\n",
              "    }\n",
              "\n",
              "    .dataframe thead th {\n",
              "        text-align: right;\n",
              "    }\n",
              "</style>\n",
              "<table border=\"1\" class=\"dataframe\">\n",
              "  <thead>\n",
              "    <tr style=\"text-align: right;\">\n",
              "      <th></th>\n",
              "      <th>x</th>\n",
              "      <th>y</th>\n",
              "    </tr>\n",
              "  </thead>\n",
              "  <tbody>\n",
              "    <tr>\n",
              "      <th>0</th>\n",
              "      <td>24.0</td>\n",
              "      <td>21.549452</td>\n",
              "    </tr>\n",
              "    <tr>\n",
              "      <th>1</th>\n",
              "      <td>50.0</td>\n",
              "      <td>47.464463</td>\n",
              "    </tr>\n",
              "    <tr>\n",
              "      <th>2</th>\n",
              "      <td>15.0</td>\n",
              "      <td>17.218656</td>\n",
              "    </tr>\n",
              "    <tr>\n",
              "      <th>3</th>\n",
              "      <td>38.0</td>\n",
              "      <td>36.586398</td>\n",
              "    </tr>\n",
              "    <tr>\n",
              "      <th>4</th>\n",
              "      <td>87.0</td>\n",
              "      <td>87.288984</td>\n",
              "    </tr>\n",
              "  </tbody>\n",
              "</table>\n",
              "</div>"
            ],
            "text/plain": [
              "      x          y\n",
              "0  24.0  21.549452\n",
              "1  50.0  47.464463\n",
              "2  15.0  17.218656\n",
              "3  38.0  36.586398\n",
              "4  87.0  87.288984"
            ]
          },
          "metadata": {
            "tags": []
          },
          "execution_count": 39
        }
      ]
    },
    {
      "cell_type": "code",
      "metadata": {
        "colab": {
          "base_uri": "https://localhost:8080/"
        },
        "id": "vysK38N1XzWN",
        "outputId": "5d93c2b8-dc98-40c1-bb85-a7d5dfe03fd4"
      },
      "source": [
        "df.isnull().sum()# Checking for missing values"
      ],
      "execution_count": 40,
      "outputs": [
        {
          "output_type": "execute_result",
          "data": {
            "text/plain": [
              "x    0\n",
              "y    1\n",
              "dtype: int64"
            ]
          },
          "metadata": {
            "tags": []
          },
          "execution_count": 40
        }
      ]
    },
    {
      "cell_type": "code",
      "metadata": {
        "id": "l1eEs7-hYJZG"
      },
      "source": [
        "#Fill in the missing values\n",
        "# df.fillna(method='backfill',inplace=True)\n",
        "#Remove the missing values\n",
        "df.dropna(inplace=True)"
      ],
      "execution_count": 41,
      "outputs": []
    },
    {
      "cell_type": "markdown",
      "metadata": {
        "id": "w2aF5xUSYekX"
      },
      "source": [
        "## Visualize your data by plotting\n",
        "- In this case we just have 1 independent variable 'x' and 1 dependent variable 'y'"
      ]
    },
    {
      "cell_type": "code",
      "metadata": {
        "id": "CYwJHMVmYnC2"
      },
      "source": [
        "x_train = np.array(df['x'])#The independet variable/feature\n",
        "y_train = np.array(df['y'])#The dependent variable/output"
      ],
      "execution_count": 42,
      "outputs": []
    },
    {
      "cell_type": "code",
      "metadata": {
        "colab": {
          "base_uri": "https://localhost:8080/",
          "height": 624
        },
        "id": "TarWK0efY2SW",
        "outputId": "be7b55ff-cd2e-4536-e22e-35a61d0f4814"
      },
      "source": [
        "plt.figure(figsize=(15,10))\n",
        "plt.scatter(x_train[:50],y_train[:50])\n",
        "plt.xlabel(\"X Values - Independent Variable\")\n",
        "plt.ylabel(\"Y Values - Dependent Variable\")"
      ],
      "execution_count": 43,
      "outputs": [
        {
          "output_type": "execute_result",
          "data": {
            "text/plain": [
              "Text(0, 0.5, 'Y Values - Dependent Variable')"
            ]
          },
          "metadata": {
            "tags": []
          },
          "execution_count": 43
        },
        {
          "output_type": "display_data",
          "data": {
            "image/png": "[encoded data removed]",
            "text/plain": [
              "<Figure size 1080x720 with 1 Axes>"
            ]
          },
          "metadata": {
            "tags": [],
            "needs_background": "light"
          }
        }
      ]
    },
    {
      "cell_type": "markdown",
      "metadata": {
        "id": "-_7EaESFZdeL"
      },
      "source": [
        "## Building a Simple Linear Regression Model\n",
        "- We will use the scikit-learn package to implement the Linear Regression Model\n",
        "- This model is used to get the best-fit line to the above plot"
      ]
    },
    {
      "cell_type": "code",
      "metadata": {
        "colab": {
          "base_uri": "https://localhost:8080/"
        },
        "id": "Tb7w4kLBcrhn",
        "outputId": "077140f5-d5cd-4cb5-8c60-8395892a2187"
      },
      "source": [
        "reg = LinearRegression()# Define the model's object\n",
        "reg.fit(x_train.reshape(-1,1),y_train.reshape(-1,1))#Call the object's function to fit/train the model"
      ],
      "execution_count": 44,
      "outputs": [
        {
          "output_type": "execute_result",
          "data": {
            "text/plain": [
              "LinearRegression(copy_X=True, fit_intercept=True, n_jobs=None, normalize=False)"
            ]
          },
          "metadata": {
            "tags": []
          },
          "execution_count": 44
        }
      ]
    },
    {
      "cell_type": "markdown",
      "metadata": {
        "id": "HBV0UmU2aGFh"
      },
      "source": [
        "- Now let us look at our predictions best-fit line versus the actual values on the ****Test dataset****"
      ]
    },
    {
      "cell_type": "code",
      "metadata": {
        "id": "g5UFlVI3aPfY"
      },
      "source": [
        "df_test = pd.read_csv(\"./test.csv\")#Reading the test dataset\n",
        "x_test = np.array(df_test['x'])#Store the x-test values\n",
        "y_test = np.array(df_test['y'])#Store the y-test values"
      ],
      "execution_count": 118,
      "outputs": []
    },
    {
      "cell_type": "markdown",
      "metadata": {
        "id": "xp6uppqsaXx0"
      },
      "source": [
        "- Calling your trained Machine Learning Model to make predictions on unknown data points"
      ]
    },
    {
      "cell_type": "code",
      "metadata": {
        "id": "7xIC--seaXNG"
      },
      "source": [
        "model_predictions  =reg.predict(x_test.reshape(-1,1))"
      ],
      "execution_count": 120,
      "outputs": []
    },
    {
      "cell_type": "code",
      "metadata": {
        "colab": {
          "base_uri": "https://localhost:8080/",
          "height": 624
        },
        "id": "plGnkdFOdq1X",
        "outputId": "bbff8a67-2ba3-4ad9-9de3-c597a6bca8ba"
      },
      "source": [
        "plt.figure(figsize=(15,10))\n",
        "plt.scatter(x_test,y_test)\n",
        "plt.plot(x_test,model_predictions,color='r')\n",
        "plt.xlabel(\"X Test Values - Independent Variable\")\n",
        "plt.ylabel(\"Y Test Values - Dependent Variable\")"
      ],
      "execution_count": 121,
      "outputs": [
        {
          "output_type": "execute_result",
          "data": {
            "text/plain": [
              "Text(0, 0.5, 'Y Test Values - Dependent Variable')"
            ]
          },
          "metadata": {
            "tags": []
          },
          "execution_count": 121
        },
        {
          "output_type": "display_data",
          "data": {
            "image/png": "[encoded data removed]",
            "text/plain": [
              "<Figure size 1080x720 with 1 Axes>"
            ]
          },
          "metadata": {
            "tags": [],
            "needs_background": "light"
          }
        }
      ]
    },
    {
      "cell_type": "markdown",
      "metadata": {
        "id": "mSJZa0dijU-M"
      },
      "source": [
        "## Evaluating our model quantitatively\n",
        "- Since this is a Regression task, we cannot rely on accuracy\n",
        "- Metrics such as R2 score, mean squared error, mean absolute error etc. are used to evaluate such tasks"
      ]
    },
    {
      "cell_type": "code",
      "metadata": {
        "colab": {
          "base_uri": "https://localhost:8080/"
        },
        "id": "IwA3lsLzjlcp",
        "outputId": "b3046650-7fa4-44d1-e9e9-139060ea3255"
      },
      "source": [
        "mean_squared_error(y_test,model_predictions) # There is a lot of room for improvement"
      ],
      "execution_count": 123,
      "outputs": [
        {
          "output_type": "execute_result",
          "data": {
            "text/plain": [
              "9.432922192039305"
            ]
          },
          "metadata": {
            "tags": []
          },
          "execution_count": 123
        }
      ]
    },
    {
      "cell_type": "markdown",
      "metadata": {
        "id": "1fj-AM_rdTuX"
      },
      "source": [
        "## Building the Logistic Regression Model"
      ]
    },
    {
      "cell_type": "code",
      "metadata": {
        "id": "4iNlvtUWfbhV"
      },
      "source": [
        "df_social = pd.read_csv(\"./Social_Network_Ads.csv\")# Reading the new dataset"
      ],
      "execution_count": 58,
      "outputs": []
    },
    {
      "cell_type": "code",
      "metadata": {
        "colab": {
          "base_uri": "https://localhost:8080/"
        },
        "id": "Ri8aVZiOiPMk",
        "outputId": "ed5f5ff2-d481-48e1-a400-f18d3bd05b71"
      },
      "source": [
        "df_social.shape"
      ],
      "execution_count": 96,
      "outputs": [
        {
          "output_type": "execute_result",
          "data": {
            "text/plain": [
              "(400, 5)"
            ]
          },
          "metadata": {
            "tags": []
          },
          "execution_count": 96
        }
      ]
    },
    {
      "cell_type": "code",
      "metadata": {
        "colab": {
          "base_uri": "https://localhost:8080/",
          "height": 363
        },
        "id": "GIS4BsZbhFAM",
        "outputId": "40931e3c-6bff-47c9-a452-97859b5de30f"
      },
      "source": [
        "df_social.sample(10)# A glimpse into the data"
      ],
      "execution_count": 59,
      "outputs": [
        {
          "output_type": "execute_result",
          "data": {
            "text/html": [
              "<div>\n",
              "<style scoped>\n",
              "    .dataframe tbody tr th:only-of-type {\n",
              "        vertical-align: middle;\n",
              "    }\n",
              "\n",
              "    .dataframe tbody tr th {\n",
              "        vertical-align: top;\n",
              "    }\n",
              "\n",
              "    .dataframe thead th {\n",
              "        text-align: right;\n",
              "    }\n",
              "</style>\n",
              "<table border=\"1\" class=\"dataframe\">\n",
              "  <thead>\n",
              "    <tr style=\"text-align: right;\">\n",
              "      <th></th>\n",
              "      <th>User ID</th>\n",
              "      <th>Gender</th>\n",
              "      <th>Age</th>\n",
              "      <th>EstimatedSalary</th>\n",
              "      <th>Purchased</th>\n",
              "    </tr>\n",
              "  </thead>\n",
              "  <tbody>\n",
              "    <tr>\n",
              "      <th>96</th>\n",
              "      <td>15710257</td>\n",
              "      <td>Female</td>\n",
              "      <td>35</td>\n",
              "      <td>25000</td>\n",
              "      <td>0</td>\n",
              "    </tr>\n",
              "    <tr>\n",
              "      <th>374</th>\n",
              "      <td>15793890</td>\n",
              "      <td>Female</td>\n",
              "      <td>37</td>\n",
              "      <td>80000</td>\n",
              "      <td>0</td>\n",
              "    </tr>\n",
              "    <tr>\n",
              "      <th>182</th>\n",
              "      <td>15694288</td>\n",
              "      <td>Female</td>\n",
              "      <td>32</td>\n",
              "      <td>117000</td>\n",
              "      <td>1</td>\n",
              "    </tr>\n",
              "    <tr>\n",
              "      <th>139</th>\n",
              "      <td>15741094</td>\n",
              "      <td>Male</td>\n",
              "      <td>19</td>\n",
              "      <td>25000</td>\n",
              "      <td>0</td>\n",
              "    </tr>\n",
              "    <tr>\n",
              "      <th>19</th>\n",
              "      <td>15621083</td>\n",
              "      <td>Female</td>\n",
              "      <td>48</td>\n",
              "      <td>29000</td>\n",
              "      <td>1</td>\n",
              "    </tr>\n",
              "    <tr>\n",
              "      <th>44</th>\n",
              "      <td>15715541</td>\n",
              "      <td>Female</td>\n",
              "      <td>28</td>\n",
              "      <td>84000</td>\n",
              "      <td>0</td>\n",
              "    </tr>\n",
              "    <tr>\n",
              "      <th>155</th>\n",
              "      <td>15610140</td>\n",
              "      <td>Female</td>\n",
              "      <td>31</td>\n",
              "      <td>15000</td>\n",
              "      <td>0</td>\n",
              "    </tr>\n",
              "    <tr>\n",
              "      <th>363</th>\n",
              "      <td>15768293</td>\n",
              "      <td>Female</td>\n",
              "      <td>42</td>\n",
              "      <td>79000</td>\n",
              "      <td>0</td>\n",
              "    </tr>\n",
              "    <tr>\n",
              "      <th>238</th>\n",
              "      <td>15617877</td>\n",
              "      <td>Female</td>\n",
              "      <td>46</td>\n",
              "      <td>82000</td>\n",
              "      <td>0</td>\n",
              "    </tr>\n",
              "    <tr>\n",
              "      <th>250</th>\n",
              "      <td>15810075</td>\n",
              "      <td>Female</td>\n",
              "      <td>44</td>\n",
              "      <td>39000</td>\n",
              "      <td>0</td>\n",
              "    </tr>\n",
              "  </tbody>\n",
              "</table>\n",
              "</div>"
            ],
            "text/plain": [
              "      User ID  Gender  Age  EstimatedSalary  Purchased\n",
              "96   15710257  Female   35            25000          0\n",
              "374  15793890  Female   37            80000          0\n",
              "182  15694288  Female   32           117000          1\n",
              "139  15741094    Male   19            25000          0\n",
              "19   15621083  Female   48            29000          1\n",
              "44   15715541  Female   28            84000          0\n",
              "155  15610140  Female   31            15000          0\n",
              "363  15768293  Female   42            79000          0\n",
              "238  15617877  Female   46            82000          0\n",
              "250  15810075  Female   44            39000          0"
            ]
          },
          "metadata": {
            "tags": []
          },
          "execution_count": 59
        }
      ]
    },
    {
      "cell_type": "code",
      "metadata": {
        "colab": {
          "base_uri": "https://localhost:8080/"
        },
        "id": "_IS1lwuSd1Av",
        "outputId": "b2b28e21-98fe-4637-fb71-df6c71591d93"
      },
      "source": [
        "#Checking for missing values\n",
        "df_social.isnull().sum()"
      ],
      "execution_count": 60,
      "outputs": [
        {
          "output_type": "execute_result",
          "data": {
            "text/plain": [
              "User ID            0\n",
              "Gender             0\n",
              "Age                0\n",
              "EstimatedSalary    0\n",
              "Purchased          0\n",
              "dtype: int64"
            ]
          },
          "metadata": {
            "tags": []
          },
          "execution_count": 60
        }
      ]
    },
    {
      "cell_type": "markdown",
      "metadata": {
        "id": "hF8OwJt4d6VK"
      },
      "source": [
        "## Training the Logistic Regression Model\n",
        "- In this case since we have only one dataset, we need to split it into trainig \n",
        "and testing datasets\n",
        "- We will be using scikit-learn to do the splitting "
      ]
    },
    {
      "cell_type": "code",
      "metadata": {
        "id": "CI2GNkFMem4B"
      },
      "source": [
        "x_train_2, x_test_2, y_train_2, y_test_2 = train_test_split(df_social[['Age','EstimatedSalary']],df_social[['Purchased']],\\\n",
        "                                                          test_size=0.1) # Splitting the data into train and test"
      ],
      "execution_count": 97,
      "outputs": []
    },
    {
      "cell_type": "code",
      "metadata": {
        "colab": {
          "base_uri": "https://localhost:8080/"
        },
        "id": "9EhXVCYThGRR",
        "outputId": "8a19673c-add9-4ac7-f185-5bb73395eb95"
      },
      "source": [
        "log_reg = LogisticRegression()# Initializing the model\n",
        "log_reg.fit(x_train_2,y_train_2)#Training the model"
      ],
      "execution_count": 110,
      "outputs": [
        {
          "output_type": "stream",
          "text": [
            "/usr/local/lib/python3.7/dist-packages/sklearn/utils/validation.py:760: DataConversionWarning: A column-vector y was passed when a 1d array was expected. Please change the shape of y to (n_samples, ), for example using ravel().\n",
            "  y = column_or_1d(y, warn=True)\n"
          ],
          "name": "stderr"
        },
        {
          "output_type": "execute_result",
          "data": {
            "text/plain": [
              "LogisticRegression(C=1.0, class_weight=None, dual=False, fit_intercept=True,\n",
              "                   intercept_scaling=1, l1_ratio=None, max_iter=100,\n",
              "                   multi_class='auto', n_jobs=None, penalty='l2',\n",
              "                   random_state=None, solver='lbfgs', tol=0.0001, verbose=0,\n",
              "                   warm_start=False)"
            ]
          },
          "metadata": {
            "tags": []
          },
          "execution_count": 110
        }
      ]
    },
    {
      "cell_type": "markdown",
      "metadata": {
        "id": "9JHPb10Lff6_"
      },
      "source": [
        "## Evaluate your models using some metrics\n",
        "- Accuracy, recall and precision are the most common metrics used to evaluate models for classification problems"
      ]
    },
    {
      "cell_type": "code",
      "metadata": {
        "id": "jwe8Rs4SizZk"
      },
      "source": [
        "social_predictions = log_reg.predict(x_test_2)"
      ],
      "execution_count": 111,
      "outputs": []
    },
    {
      "cell_type": "code",
      "metadata": {
        "colab": {
          "base_uri": "https://localhost:8080/"
        },
        "id": "jZgnFndSfuVD",
        "outputId": "d5083b39-99df-48b3-def2-ddf8d2fae38f"
      },
      "source": [
        "print(classification_report(y_test_2,social_predictions))"
      ],
      "execution_count": 112,
      "outputs": [
        {
          "output_type": "stream",
          "text": [
            "              precision    recall  f1-score   support\n",
            "\n",
            "           0       0.70      1.00      0.82        28\n",
            "           1       0.00      0.00      0.00        12\n",
            "\n",
            "    accuracy                           0.70        40\n",
            "   macro avg       0.35      0.50      0.41        40\n",
            "weighted avg       0.49      0.70      0.58        40\n",
            "\n"
          ],
          "name": "stdout"
        },
        {
          "output_type": "stream",
          "text": [
            "/usr/local/lib/python3.7/dist-packages/sklearn/metrics/_classification.py:1272: UndefinedMetricWarning: Precision and F-score are ill-defined and being set to 0.0 in labels with no predicted samples. Use `zero_division` parameter to control this behavior.\n",
            "  _warn_prf(average, modifier, msg_start, len(result))\n"
          ],
          "name": "stderr"
        }
      ]
    },
    {
      "cell_type": "markdown",
      "metadata": {
        "id": "DIKDUl_bgqk4"
      },
      "source": [
        "## Visualize the Ground-Truth values Vs predictions\n",
        "\n",
        "- We will first look at the ground-truth testing dataset values\n",
        "- Next we will look at how our model is making the predictions"
      ]
    },
    {
      "cell_type": "code",
      "metadata": {
        "colab": {
          "base_uri": "https://localhost:8080/",
          "height": 624
        },
        "id": "4mZ_y7TMi_Cs",
        "outputId": "8af54b8c-d155-471b-9707-39f6f72a008c"
      },
      "source": [
        "plt.figure(figsize=(15,10))\n",
        "sb.scatterplot(data = x_test_2, x = 'Age',y = 'EstimatedSalary',hue=y_test_2['Purchased'])"
      ],
      "execution_count": 92,
      "outputs": [
        {
          "output_type": "execute_result",
          "data": {
            "text/plain": [
              "<matplotlib.axes._subplots.AxesSubplot at 0x7f39c200c990>"
            ]
          },
          "metadata": {
            "tags": []
          },
          "execution_count": 92
        },
        {
          "output_type": "display_data",
          "data": {
            "image/png": "[encoded data removed]",
            "text/plain": [
              "<Figure size 1080x720 with 1 Axes>"
            ]
          },
          "metadata": {
            "tags": [],
            "needs_background": "light"
          }
        }
      ]
    },
    {
      "cell_type": "code",
      "metadata": {
        "colab": {
          "base_uri": "https://localhost:8080/",
          "height": 624
        },
        "id": "ifmyg3LwgmLI",
        "outputId": "653bdc3c-7d06-4b29-9574-b3620a245fb0"
      },
      "source": [
        "plt.figure(figsize=(15,10))\n",
        "sb.scatterplot(data = x_test_2, x = 'Age',y = 'EstimatedSalary',hue=social_predictions)"
      ],
      "execution_count": 93,
      "outputs": [
        {
          "output_type": "execute_result",
          "data": {
            "text/plain": [
              "<matplotlib.axes._subplots.AxesSubplot at 0x7f39c1fc9250>"
            ]
          },
          "metadata": {
            "tags": []
          },
          "execution_count": 93
        },
        {
          "output_type": "display_data",
          "data": {
            "image/png": "[encoded data removed]",
            "text/plain": [
              "<Figure size 1080x720 with 1 Axes>"
            ]
          },
          "metadata": {
            "tags": [],
            "needs_background": "light"
          }
        }
      ]
    },
    {
      "cell_type": "code",
      "metadata": {
        "id": "5T1sqHfegSFT"
      },
      "source": [
        ""
      ],
      "execution_count": 93,
      "outputs": []
    }
  ]
}