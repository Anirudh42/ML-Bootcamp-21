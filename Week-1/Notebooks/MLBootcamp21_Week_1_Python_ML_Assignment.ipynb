{
 "cells": [
  {
   "cell_type": "markdown",
   "metadata": {
    "id": "K8fheoknnQok"
   },
   "source": [
    "# ML Bootcamp 2021 - Week 1: Assignment\n",
    "\n",
    "- Please Read the Instructions very very carefully.\n",
    "- Name the variables exactly as is mentioned in the comments\n",
    "- Failure to do so would result in the grader marking the values wrongly\n",
    "- If the comment asks you to name the variable 'a' then name it 'a' and not 'A'\n",
    "- ****Please do not remove any missing values from the dataset for the following calculations****"
   ]
  },
  {
   "cell_type": "markdown",
   "metadata": {
    "id": "_kFWo_XYtPWQ"
   },
   "source": [
    "## Q1. Create a list of integers starting from 1 to 100,000 where each number is squared."
   ]
  },
  {
   "cell_type": "code",
   "execution_count": 2,
   "metadata": {
    "id": "8Y4YHeD-tbQ2"
   },
   "outputs": [],
   "source": [
    "# Write your code below the comments in this cell\n",
    "# Important\n",
    "# Save you list in a variable called 'squared_integers'\n",
    "# Example: squared_integers = [1, 4, 9, 16, 25, 36,....., 10000000000]\n",
    "squared_integers = "
   ]
  },
  {
   "cell_type": "markdown",
   "metadata": {
    "id": "fBUIIBpct1K2"
   },
   "source": [
    "## Q2. Create a function to print the maximum of two given values"
   ]
  },
  {
   "cell_type": "code",
   "execution_count": 3,
   "metadata": {
    "id": "bWbckW9Bt-k-"
   },
   "outputs": [],
   "source": [
    "# Write your code below the comments in this cell\n",
    "# Important\n",
    "# The name of the function should be max_two_numbers\n",
    "# The function SHOULD ONLY return EXACTLY 1 value which is the maximum of the two numbers\n",
    "# You only need to define the function, Do Not Call the function\n"
   ]
  },
  {
   "cell_type": "markdown",
   "metadata": {
    "id": "xL361QXRiyNd"
   },
   "source": [
    "## Q3. How many columns and rows are there in the test dataset?"
   ]
  },
  {
   "cell_type": "code",
   "execution_count": 5,
   "metadata": {
    "id": "QPrapo99ijPi"
   },
   "outputs": [],
   "source": [
    "# Write your code below the comments in this cell\n",
    "# Important\n",
    "# Save your row value in a variable called 'row'\n",
    "# Save your columns value in a variable called 'col'\n",
    "row = \n",
    "col = "
   ]
  },
  {
   "cell_type": "markdown",
   "metadata": {
    "id": "_yYLUBzdlIub"
   },
   "source": [
    "## Q4. What is the youngest and oldest Age recorded on the ship (Train dataset)?"
   ]
  },
  {
   "cell_type": "code",
   "execution_count": 6,
   "metadata": {
    "id": "_hInu0U-lGnS"
   },
   "outputs": [],
   "source": [
    "# Write your code below the comments in this cell\n",
    "# Important\n",
    "# Save your youngest Age value in a variable called 'age_youngest'\n",
    "# Save your oldest Age value in a variable called 'age_oldest'\n",
    "age_youngest = \n",
    "age_oldest = "
   ]
  },
  {
   "cell_type": "markdown",
   "metadata": {
    "id": "pBDlQErdlrA2"
   },
   "source": [
    "## Q5. What are the proportions of male and female passengers (Train dataset)?"
   ]
  },
  {
   "cell_type": "code",
   "execution_count": 7,
   "metadata": {
    "id": "99j8gKn9lmj6"
   },
   "outputs": [],
   "source": [
    "# Write your code below the comments in this cell\n",
    "# Important\n",
    "# Save the integer number for female passengers in a variable called 'female_count'\n",
    "# Save the integer number for male passengers in a variable called 'male_count'\n",
    "female_count = \n",
    "male_count = "
   ]
  },
  {
   "cell_type": "markdown",
   "metadata": {
    "id": "VBC-D9JUmfgG"
   },
   "source": [
    "## Q6. What is the average ticket price per Passenger Ticket Class(Train dataset) ?"
   ]
  },
  {
   "cell_type": "code",
   "execution_count": 8,
   "metadata": {
    "id": "yVw9ygrJmd2L"
   },
   "outputs": [],
   "source": [
    "# Write your code below the comments in this cell\n",
    "# Important\n",
    "# Save the value for each ticket class as a variable called \"p_classnumber_avg_fare\" (Eg: p_1_avg_fare)\n",
    "# Once you get your final answers, use the function \"round(answer,2)\" exactly as is to round the answer to two decimal places.\n",
    "# Inside the round() function make sure to put the value with all its decimal places, then round() will properly round it down two 2 decimal places\n",
    "p_1_avg_fare = \n",
    "p_2_avg_fare =\n",
    "p_3_avg_fare ="
   ]
  },
  {
   "cell_type": "markdown",
   "metadata": {
    "id": "lshoMAFpnPXH"
   },
   "source": [
    "## Q7. Explore the 'Names' feature and find out how many titles are present? A title stands for 'Mr', 'Miss', 'Dr' etc. appended before any person's name (Train dataset). \n",
    "- Hint: Check the \"Strings\" part of the tutorial notebook"
   ]
  },
  {
   "cell_type": "code",
   "execution_count": 9,
   "metadata": {
    "id": "lNRO_sL-qFVU"
   },
   "outputs": [],
   "source": [
    "# Write your code below the comments in this cell\n",
    "# Important\n",
    "# Your output should be a dictionary called 'title_count'\n",
    "# Each key of the dictionary is the name of the title as is, Eg: Mr, Miss, Mrs, etc.\n",
    "# Value of each key is the number of times that that particular title has occurred\n",
    "# Example output\n",
    "# {'Mr':5,'Capt':20,'Miss':12 and so on}\n",
    "title_count = "
   ]
  },
  {
   "cell_type": "code",
   "execution_count": null,
   "metadata": {
    "id": "ubo1eHChsw0Z"
   },
   "outputs": [],
   "source": []
  }
 ],
 "metadata": {
  "colab": {
   "collapsed_sections": [],
   "name": "MLBootcamp21_Week-1_Python_ML-Assignment.ipynb",
   "provenance": []
  },
  "kernelspec": {
   "display_name": "Python 3",
   "language": "python",
   "name": "python3"
  },
  "language_info": {
   "codemirror_mode": {
    "name": "ipython",
    "version": 3
   },
   "file_extension": ".py",
   "mimetype": "text/x-python",
   "name": "python",
   "nbconvert_exporter": "python",
   "pygments_lexer": "ipython3",
   "version": "3.7.4"
  }
 },
 "nbformat": 4,
 "nbformat_minor": 1
}
